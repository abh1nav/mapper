{
 "metadata": {
  "name": ""
 },
 "nbformat": 3,
 "nbformat_minor": 0,
 "worksheets": [
  {
   "cells": [
    {
     "cell_type": "code",
     "collapsed": false,
     "input": [
      "from pymongo import MongoClient\n",
      "db = MongoClient()['geocodes']['pods']\n",
      "\n",
      "f = open('/Users/asdf/workspaces/abh1nav/mapper/data/bixi-pods/pods.csv', 'r')\n",
      "\n",
      "for line in f:\n",
      "    l = line.replace('\\n', '').split(',')\n",
      "    doc = {\n",
      "        '_id': l[0],\n",
      "        'loc': {\n",
      "            'type': 'Point',\n",
      "            'coordinates': [float(l[-1]), float(l[-2])]\n",
      "        }\n",
      "    }\n",
      "    db.save(doc)\n",
      "f.close()"
     ],
     "language": "python",
     "metadata": {},
     "outputs": [],
     "prompt_number": 1
    }
   ],
   "metadata": {}
  }
 ]
}