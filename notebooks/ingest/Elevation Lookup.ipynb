{
 "metadata": {
  "name": ""
 },
 "nbformat": 3,
 "nbformat_minor": 0,
 "worksheets": [
  {
   "cells": [
    {
     "cell_type": "code",
     "collapsed": false,
     "input": [
      "import time\n",
      "\n",
      "from pymongo import MongoClient\n",
      "import requests\n",
      "\n",
      "conn = MongoClient( )\n",
      "db = conn['geocodes']\n",
      "coll = db['bixi_extract']\n",
      "\n",
      "docs = []\n",
      "for doc in coll.find(timeout=False):\n",
      "    docs.append(doc)\n",
      "len(docs)"
     ],
     "language": "python",
     "metadata": {},
     "outputs": [
      {
       "metadata": {},
       "output_type": "pyout",
       "prompt_number": 1,
       "text": [
        "81"
       ]
      }
     ],
     "prompt_number": 1
    },
    {
     "cell_type": "code",
     "collapsed": false,
     "input": [
      "url = 'http://maps.googleapis.com/maps/api/elevation/json?locations=%s'\n",
      "for doc in docs:\n",
      "    loc = '%s,%s' % (doc['lat'], doc['lng'])\n",
      "    r = requests.get(url % loc)\n",
      "    j = r.json()\n",
      "    doc['elevation'] = j['results'][0]['elevation']\n",
      "    doc['resolution'] = j['results'][0]['resolution']\n",
      "    time.sleep(1)"
     ],
     "language": "python",
     "metadata": {},
     "outputs": [],
     "prompt_number": 2
    },
    {
     "cell_type": "code",
     "collapsed": false,
     "input": [
      "for doc in docs:\n",
      "    coll.save(doc)"
     ],
     "language": "python",
     "metadata": {},
     "outputs": [],
     "prompt_number": 3
    }
   ],
   "metadata": {}
  }
 ]
}